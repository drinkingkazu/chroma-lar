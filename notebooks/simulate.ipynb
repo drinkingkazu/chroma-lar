{
 "cells": [
  {
   "cell_type": "code",
   "execution_count": 4,
   "metadata": {},
   "outputs": [
    {
     "name": "stdout",
     "output_type": "stream",
     "text": [
      "Total PMT number is 128\n"
     ]
    }
   ],
   "source": [
    "from chroma_lar.geometry import build_detector_from_config\n",
    "from chroma.sim import Simulation\n",
    "\n",
    "g = build_detector_from_config('chroma-lar/config/detector_config.py', flatten=True\n",
    ")\n",
    "sim = Simulation(g, geant4_processes=0, photon_tracking=0, particle_tracking=0)"
   ]
  },
  {
   "cell_type": "code",
   "execution_count": 5,
   "metadata": {},
   "outputs": [],
   "source": [
    "from chroma_lar.generator import photon_gen\n",
    "\n",
    "photons = photon_gen(100_000, (300,500), [1000,0,0])\n",
    "\n",
    "ev = next(sim.simulate(\n",
    "    photons,\n",
    "    run_daq=True,\n",
    "    photons_per_batch=100_000,\n",
    "    keep_photons_beg=True,\n",
    "    keep_photons_end=True,\n",
    "    keep_hits=True,\n",
    "    keep_flat_hits=True,\n",
    "    max_steps=10000,\n",
    "))"
   ]
  },
  {
   "cell_type": "code",
   "execution_count": null,
   "metadata": {},
   "outputs": [],
   "source": [
    "from chroma_lar.utils import plot_geometry\n",
    "\n",
    "plot_geometry(ev, build_detector_from_config('chroma-lar/config/detector_config.py', flatten=False, include_wires=False))"
   ]
  }
 ],
 "metadata": {
  "kernelspec": {
   "display_name": "py310_torch",
   "language": "python",
   "name": "python3"
  },
  "language_info": {
   "codemirror_mode": {
    "name": "ipython",
    "version": 3
   },
   "file_extension": ".py",
   "mimetype": "text/x-python",
   "name": "python",
   "nbconvert_exporter": "python",
   "pygments_lexer": "ipython3",
   "version": "3.12.8"
  }
 },
 "nbformat": 4,
 "nbformat_minor": 2
}
