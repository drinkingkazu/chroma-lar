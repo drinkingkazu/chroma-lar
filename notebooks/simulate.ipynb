{
 "cells": [
  {
   "cell_type": "code",
   "execution_count": 4,
   "metadata": {},
   "outputs": [
    {
     "name": "stdout",
     "output_type": "stream",
     "text": [
      "Total PMT number is 128\n"
     ]
    }
   ],
   "source": [
    "from chroma_lar.geometry import build_detector_from_config\n",
    "from chroma.sim import Simulation\n",
    "\n",
    "g = build_detector_from_config('detector_config_noreflect', flatten=True, include_wires=False,\n",
    ")\n",
    "sim = Simulation(g, geant4_processes=0, photon_tracking=0, particle_tracking=0)"
   ]
  },
  {
   "cell_type": "code",
   "execution_count": 5,
   "metadata": {},
   "outputs": [],
   "source": [
    "from chroma_lar.generator import photon_gen\n",
    "\n",
    "# wavelength doesnt matter here since index of refraction is const\n",
    "photons = photon_gen(500_000_000, (300,500), [1000,0,0])\n",
    "\n",
    "ev = next(sim.simulate(\n",
    "    photons,\n",
    "    run_daq=True,\n",
    "    photons_per_batch=100_000,\n",
    "    keep_photons_beg=True,\n",
    "    keep_photons_end=True,\n",
    "    keep_hits=False,\n",
    "    keep_flat_hits=True,\n",
    "    max_steps=1000,\n",
    "))"
   ]
  },
  {
   "cell_type": "code",
   "execution_count": null,
   "metadata": {},
   "outputs": [],
   "source": [
    "import numpy as np\n",
    "from chroma.event import SURFACE_DETECT, NO_HIT, NAN_ABORT, SURFACE_ABSORB, BULK_ABSORB\n",
    "\n",
    "detected_mask = (ev.photons_end.flags & SURFACE_DETECT) == SURFACE_DETECT\n",
    "surface_absorbed_mask = (((ev.photons_end.flags & SURFACE_ABSORB) == SURFACE_ABSORB))\n",
    "bulk_absorbed_mask = (((ev.photons_end.flags & BULK_ABSORB) == BULK_ABSORB))\n",
    "nohit_mask = (ev.photons_end.flags & NO_HIT) == NO_HIT\n",
    "\n",
    "# statistics\n",
    "print(f\"Total photons: {len(ev.photons_end.flags)}\")\n",
    "print(f\"Detected: {np.sum(detected_mask)}\")\n",
    "print(f\"No Hit: {np.sum(nohit_mask)}\")\n",
    "print(f\"Surface Absorbed: {np.sum(surface_absorbed_mask)}\")\n",
    "print(f\"Bulk Absorbed: {np.sum(bulk_absorbed_mask)}\")\n",
    "print(f\"Aborted: {np.sum((ev.photons_end.flags & NAN_ABORT) == NAN_ABORT)}\")"
   ]
  },
  {
   "cell_type": "code",
   "execution_count": null,
   "metadata": {},
   "outputs": [],
   "source": [
    "# create visibility values for each PMT: # det / total\n",
    "import matplotlib.pyplot as plt\n",
    "\n",
    "pmt_id, counts = np.unique(ev.flat_hits.channel, return_counts=True)\n",
    "\n",
    "counts = counts / len(photons)\n",
    "counts = counts[np.argsort(pmt_id)]\n",
    "pmt_id = pmt_id[np.argsort(pmt_id)]\n",
    "\n",
    "plt.plot(pmt_id, counts)\n",
    "plt.title('Visibility at (1000,0,0) - Chroma')\n",
    "plt.xlabel('PMT ID')\n",
    "plt.ylabel('Visibility')\n",
    "plt.show()"
   ]
  },
  {
   "cell_type": "code",
   "execution_count": null,
   "metadata": {},
   "outputs": [],
   "source": [
    "from chroma_lar.utils import plot_geometry\n",
    "\n",
    "plot_geometry(ev, build_detector_from_config('detector_config_noreflect', flatten=False, include_wires=False))"
   ]
  }
 ],
 "metadata": {
  "kernelspec": {
   "display_name": "py310_torch",
   "language": "python",
   "name": "python3"
  },
  "language_info": {
   "codemirror_mode": {
    "name": "ipython",
    "version": 3
   },
   "file_extension": ".py",
   "mimetype": "text/x-python",
   "name": "python",
   "nbconvert_exporter": "python",
   "pygments_lexer": "ipython3",
   "version": "3.12.8"
  }
 },
 "nbformat": 4,
 "nbformat_minor": 2
}
